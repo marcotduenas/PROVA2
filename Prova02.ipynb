{
 "cells": [
  {
   "cell_type": "code",
   "execution_count": 1,
   "id": "2705f37b-4cac-4e31-9f5a-4d8e2e17d0f1",
   "metadata": {},
   "outputs": [
    {
     "name": "stdout",
     "output_type": "stream",
     "text": [
      "30\n"
     ]
    }
   ],
   "source": [
    "consumo_diario = [50, 45, 55, 60, 48, 52, 47, 49, 53, 51, 50, 46, 54, 61, 49, 53, 48, 50, 52, 47, 56, 50, 55, 60, 48, 52, 47, 49, 53, 51]"
   ]
  },
  {
   "cell_type": "code",
   "execution_count": 19,
   "id": "70cde19b-1ca2-456d-b288-997be85ecf6d",
   "metadata": {},
   "outputs": [],
   "source": [
    "def consumo(lista_de_consumo):\n",
    "    consumo_mensal = 0\n",
    "    for consumo_dia in lista_de_consumo:\n",
    "        consumo_mensal += consumo_dia\n",
    "    media_consumo = consumo_mensal/len(lista_de_consumo)\n",
    "    return media_consumo"
   ]
  },
  {
   "cell_type": "code",
   "execution_count": 20,
   "id": "d9130932-53a8-4da7-b14b-00176489c65f",
   "metadata": {},
   "outputs": [
    {
     "name": "stdout",
     "output_type": "stream",
     "text": [
      "O consumo diário médio foi: 51.36666666666667\n"
     ]
    }
   ],
   "source": [
    "print(f\"O consumo diário médio foi: {consumo(consumo_diario)}\")"
   ]
  }
 ],
 "metadata": {
  "kernelspec": {
   "display_name": "Python 3 (ipykernel)",
   "language": "python",
   "name": "python3"
  },
  "language_info": {
   "codemirror_mode": {
    "name": "ipython",
    "version": 3
   },
   "file_extension": ".py",
   "mimetype": "text/x-python",
   "name": "python",
   "nbconvert_exporter": "python",
   "pygments_lexer": "ipython3",
   "version": "3.12.4"
  }
 },
 "nbformat": 4,
 "nbformat_minor": 5
}
